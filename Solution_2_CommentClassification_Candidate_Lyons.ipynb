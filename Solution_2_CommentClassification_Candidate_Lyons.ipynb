{
  "nbformat": 4,
  "nbformat_minor": 0,
  "metadata": {
    "colab": {
      "name": "Solution 2_CommentClassification_Candidate_Lyons",
      "provenance": [],
      "collapsed_sections": [],
      "authorship_tag": "ABX9TyOSW+/KlYDINIqVn8ibENtr",
      "include_colab_link": true
    },
    "kernelspec": {
      "name": "python3",
      "display_name": "Python 3"
    },
    "accelerator": "GPU"
  },
  "cells": [
    {
      "cell_type": "markdown",
      "metadata": {
        "id": "view-in-github",
        "colab_type": "text"
      },
      "source": [
        "<a href=\"https://colab.research.google.com/github/seanjudelyons/RMAI_CandidatePack/blob/main/Solution_2_CommentClassification_Candidate_Lyons.ipynb\" target=\"_parent\"><img src=\"https://colab.research.google.com/assets/colab-badge.svg\" alt=\"Open In Colab\"/></a>"
      ]
    },
    {
      "cell_type": "code",
      "metadata": {
        "id": "RSX6KFKASmCY",
        "outputId": "dc43a32e-112c-4b8b-e640-36997c1ca65e",
        "colab": {
          "base_uri": "https://localhost:8080/",
          "height": 961
        }
      },
      "source": [
        "!pip install -U sentence-transformers\n",
        "!git clone https://github.com/seanjudelyons/RMAI_CandidatePack\n",
        "%cd RMAI_CandidatePack/Comment Classification"
      ],
      "execution_count": 1,
      "outputs": [
        {
          "output_type": "stream",
          "text": [
            "Collecting sentence-transformers\n",
            "\u001b[?25l  Downloading https://files.pythonhosted.org/packages/ce/4b/0add07b1eebbbe83e77fb5ac4e72e87046c3fc2c9cb16f7d1cd8c6921a1d/sentence-transformers-0.3.7.2.tar.gz (59kB)\n",
            "\u001b[K     |████████████████████████████████| 61kB 3.4MB/s \n",
            "\u001b[?25hCollecting transformers<3.4.0,>=3.1.0\n",
            "\u001b[?25l  Downloading https://files.pythonhosted.org/packages/19/22/aff234f4a841f8999e68a7a94bdd4b60b4cebcfeca5d67d61cd08c9179de/transformers-3.3.1-py3-none-any.whl (1.1MB)\n",
            "\u001b[K     |████████████████████████████████| 1.1MB 16.1MB/s \n",
            "\u001b[?25hRequirement already satisfied, skipping upgrade: tqdm in /usr/local/lib/python3.6/dist-packages (from sentence-transformers) (4.41.1)\n",
            "Requirement already satisfied, skipping upgrade: torch>=1.2.0 in /usr/local/lib/python3.6/dist-packages (from sentence-transformers) (1.6.0+cu101)\n",
            "Requirement already satisfied, skipping upgrade: numpy in /usr/local/lib/python3.6/dist-packages (from sentence-transformers) (1.18.5)\n",
            "Requirement already satisfied, skipping upgrade: scikit-learn in /usr/local/lib/python3.6/dist-packages (from sentence-transformers) (0.22.2.post1)\n",
            "Requirement already satisfied, skipping upgrade: scipy in /usr/local/lib/python3.6/dist-packages (from sentence-transformers) (1.4.1)\n",
            "Requirement already satisfied, skipping upgrade: nltk in /usr/local/lib/python3.6/dist-packages (from sentence-transformers) (3.2.5)\n",
            "Requirement already satisfied, skipping upgrade: dataclasses; python_version < \"3.7\" in /usr/local/lib/python3.6/dist-packages (from transformers<3.4.0,>=3.1.0->sentence-transformers) (0.7)\n",
            "Collecting sacremoses\n",
            "\u001b[?25l  Downloading https://files.pythonhosted.org/packages/7d/34/09d19aff26edcc8eb2a01bed8e98f13a1537005d31e95233fd48216eed10/sacremoses-0.0.43.tar.gz (883kB)\n",
            "\u001b[K     |████████████████████████████████| 890kB 41.4MB/s \n",
            "\u001b[?25hCollecting tokenizers==0.8.1.rc2\n",
            "\u001b[?25l  Downloading https://files.pythonhosted.org/packages/80/83/8b9fccb9e48eeb575ee19179e2bdde0ee9a1904f97de5f02d19016b8804f/tokenizers-0.8.1rc2-cp36-cp36m-manylinux1_x86_64.whl (3.0MB)\n",
            "\u001b[K     |████████████████████████████████| 3.0MB 30.7MB/s \n",
            "\u001b[?25hRequirement already satisfied, skipping upgrade: requests in /usr/local/lib/python3.6/dist-packages (from transformers<3.4.0,>=3.1.0->sentence-transformers) (2.23.0)\n",
            "Collecting sentencepiece!=0.1.92\n",
            "\u001b[?25l  Downloading https://files.pythonhosted.org/packages/d4/a4/d0a884c4300004a78cca907a6ff9a5e9fe4f090f5d95ab341c53d28cbc58/sentencepiece-0.1.91-cp36-cp36m-manylinux1_x86_64.whl (1.1MB)\n",
            "\u001b[K     |████████████████████████████████| 1.1MB 54.4MB/s \n",
            "\u001b[?25hRequirement already satisfied, skipping upgrade: filelock in /usr/local/lib/python3.6/dist-packages (from transformers<3.4.0,>=3.1.0->sentence-transformers) (3.0.12)\n",
            "Requirement already satisfied, skipping upgrade: regex!=2019.12.17 in /usr/local/lib/python3.6/dist-packages (from transformers<3.4.0,>=3.1.0->sentence-transformers) (2019.12.20)\n",
            "Requirement already satisfied, skipping upgrade: packaging in /usr/local/lib/python3.6/dist-packages (from transformers<3.4.0,>=3.1.0->sentence-transformers) (20.4)\n",
            "Requirement already satisfied, skipping upgrade: future in /usr/local/lib/python3.6/dist-packages (from torch>=1.2.0->sentence-transformers) (0.16.0)\n",
            "Requirement already satisfied, skipping upgrade: joblib>=0.11 in /usr/local/lib/python3.6/dist-packages (from scikit-learn->sentence-transformers) (0.16.0)\n",
            "Requirement already satisfied, skipping upgrade: six in /usr/local/lib/python3.6/dist-packages (from nltk->sentence-transformers) (1.15.0)\n",
            "Requirement already satisfied, skipping upgrade: click in /usr/local/lib/python3.6/dist-packages (from sacremoses->transformers<3.4.0,>=3.1.0->sentence-transformers) (7.1.2)\n",
            "Requirement already satisfied, skipping upgrade: urllib3!=1.25.0,!=1.25.1,<1.26,>=1.21.1 in /usr/local/lib/python3.6/dist-packages (from requests->transformers<3.4.0,>=3.1.0->sentence-transformers) (1.24.3)\n",
            "Requirement already satisfied, skipping upgrade: chardet<4,>=3.0.2 in /usr/local/lib/python3.6/dist-packages (from requests->transformers<3.4.0,>=3.1.0->sentence-transformers) (3.0.4)\n",
            "Requirement already satisfied, skipping upgrade: idna<3,>=2.5 in /usr/local/lib/python3.6/dist-packages (from requests->transformers<3.4.0,>=3.1.0->sentence-transformers) (2.10)\n",
            "Requirement already satisfied, skipping upgrade: certifi>=2017.4.17 in /usr/local/lib/python3.6/dist-packages (from requests->transformers<3.4.0,>=3.1.0->sentence-transformers) (2020.6.20)\n",
            "Requirement already satisfied, skipping upgrade: pyparsing>=2.0.2 in /usr/local/lib/python3.6/dist-packages (from packaging->transformers<3.4.0,>=3.1.0->sentence-transformers) (2.4.7)\n",
            "Building wheels for collected packages: sentence-transformers, sacremoses\n",
            "  Building wheel for sentence-transformers (setup.py) ... \u001b[?25l\u001b[?25hdone\n",
            "  Created wheel for sentence-transformers: filename=sentence_transformers-0.3.7.2-cp36-none-any.whl size=91190 sha256=a751d88805cae449abde77693d8ea30e62f12aab73e5b15ea9f651d51a361c4a\n",
            "  Stored in directory: /root/.cache/pip/wheels/4b/8f/23/7f93e91176acc7c2d651b54fa9f01e3624a47904145c4d133e\n",
            "  Building wheel for sacremoses (setup.py) ... \u001b[?25l\u001b[?25hdone\n",
            "  Created wheel for sacremoses: filename=sacremoses-0.0.43-cp36-none-any.whl size=893257 sha256=6adfca2ed65485b348cd210dced90a260a26c4cec20759aa83808d8962f19f48\n",
            "  Stored in directory: /root/.cache/pip/wheels/29/3c/fd/7ce5c3f0666dab31a50123635e6fb5e19ceb42ce38d4e58f45\n",
            "Successfully built sentence-transformers sacremoses\n",
            "Installing collected packages: sacremoses, tokenizers, sentencepiece, transformers, sentence-transformers\n",
            "Successfully installed sacremoses-0.0.43 sentence-transformers-0.3.7.2 sentencepiece-0.1.91 tokenizers-0.8.1rc2 transformers-3.3.1\n",
            "Cloning into 'RMAI_CandidatePack'...\n",
            "remote: Enumerating objects: 11, done.\u001b[K\n",
            "remote: Counting objects: 100% (11/11), done.\u001b[K\n",
            "remote: Compressing objects: 100% (10/10), done.\u001b[K\n",
            "remote: Total 11 (delta 0), reused 0 (delta 0), pack-reused 0\u001b[K\n",
            "Unpacking objects: 100% (11/11), done.\n",
            "/content/RMAI_CandidatePack/Comment Classification\n"
          ],
          "name": "stdout"
        }
      ]
    },
    {
      "cell_type": "code",
      "metadata": {
        "id": "gkxkiLQ8Ssr7",
        "outputId": "7a8eef54-1997-403d-f6d1-cd7a93d696e2",
        "colab": {
          "base_uri": "https://localhost:8080/",
          "height": 35
        }
      },
      "source": [
        "import tensorflow as tf\n",
        "import numpy as np\n",
        "from tensorflow import keras\n",
        "from sentence_transformers import SentenceTransformer\n",
        "import csv\n",
        "import io\n",
        "import os\n",
        "fpath = os.getcwd(); fpath"
      ],
      "execution_count": 2,
      "outputs": [
        {
          "output_type": "execute_result",
          "data": {
            "application/vnd.google.colaboratory.intrinsic+json": {
              "type": "string"
            },
            "text/plain": [
              "'/content/RMAI_CandidatePack/Comment Classification'"
            ]
          },
          "metadata": {
            "tags": []
          },
          "execution_count": 2
        }
      ]
    },
    {
      "cell_type": "code",
      "metadata": {
        "id": "ac4F8Y9lSwze"
      },
      "source": [
        "training_sentences = []\n",
        "training_labels = []\n",
        "\n",
        "testing_sentences = []\n",
        "testing_labels = []\n",
        "\n",
        "with open(fpath + '/Delay Sample Data.csv') as csvfile:\n",
        "    reader = csv.reader(csvfile, delimiter=',')\n",
        "    next(reader)\n",
        "    for row in reader:\n",
        "      label= float(row[1])\n",
        "      data = row[0]\n",
        "      training_sentences.append(data)\n",
        "      training_labels.append(label)\n",
        "\n",
        "with open(fpath + '/Delay Scoring Data.csv') as csvfile:\n",
        "    reader = csv.reader(csvfile, delimiter=',')\n",
        "    next(reader)\n",
        "    for row in reader:\n",
        "      label= float(row[1])\n",
        "      data = row[0]\n",
        "      testing_sentences.append(data)\n",
        "      testing_labels.append(label)"
      ],
      "execution_count": 3,
      "outputs": []
    },
    {
      "cell_type": "code",
      "metadata": {
        "id": "G_osYaCrT1sD",
        "outputId": "d043e7cf-4004-4d3b-9d94-d31696b039c3",
        "colab": {
          "base_uri": "https://localhost:8080/",
          "height": 87
        }
      },
      "source": [
        "print(len(training_sentences))\n",
        "print(len(training_labels))\n",
        "print(len(testing_sentences))\n",
        "print(len(testing_labels))\n",
        "test_len=len(testing_labels)"
      ],
      "execution_count": 4,
      "outputs": [
        {
          "output_type": "stream",
          "text": [
            "2432\n",
            "2432\n",
            "608\n",
            "608\n"
          ],
          "name": "stdout"
        }
      ]
    },
    {
      "cell_type": "code",
      "metadata": {
        "id": "-TfG15ccWsEi",
        "outputId": "b69a2411-db09-435a-e980-839b78eee83e",
        "colab": {
          "base_uri": "https://localhost:8080/",
          "height": 34
        }
      },
      "source": [
        "print(training_sentences[0])"
      ],
      "execution_count": 5,
      "outputs": [
        {
          "output_type": "stream",
          "text": [
            "truck dog wet dirt lost traction\n"
          ],
          "name": "stdout"
        }
      ]
    },
    {
      "cell_type": "code",
      "metadata": {
        "id": "2Bf1t5DNTc7b"
      },
      "source": [
        "for i in range(test_len):\n",
        "  training_sentences.append(testing_sentences[i])\n",
        "  training_labels.append(testing_labels[i])"
      ],
      "execution_count": 6,
      "outputs": []
    },
    {
      "cell_type": "code",
      "metadata": {
        "id": "TXuEaJfiUagd",
        "outputId": "39cdd6db-c07e-4e9b-e99d-159660c2a58c",
        "colab": {
          "base_uri": "https://localhost:8080/",
          "height": 52
        }
      },
      "source": [
        "sentences= np.array(training_sentences)\n",
        "labels= np.array(training_labels)\n",
        "print(sentences.shape)\n",
        "print(labels.shape)"
      ],
      "execution_count": 7,
      "outputs": [
        {
          "output_type": "stream",
          "text": [
            "(3040,)\n",
            "(3040,)\n"
          ],
          "name": "stdout"
        }
      ]
    },
    {
      "cell_type": "code",
      "metadata": {
        "id": "9IItrcONUfUT",
        "outputId": "a8807592-8734-4f27-c138-1ba21fff400c",
        "colab": {
          "base_uri": "https://localhost:8080/",
          "height": 52
        }
      },
      "source": [
        "print(sentences[3000])\n",
        "print(labels[3000])"
      ],
      "execution_count": 8,
      "outputs": [
        {
          "output_type": "stream",
          "text": [
            "maintain focus wind back operations exceeding level operation safely supervised controlled\n",
            "1.0\n"
          ],
          "name": "stdout"
        }
      ]
    },
    {
      "cell_type": "code",
      "metadata": {
        "id": "_Eg0o_40Yljw",
        "outputId": "1d74efad-1ff8-470b-f903-0e0cfb72eecb",
        "colab": {
          "base_uri": "https://localhost:8080/",
          "height": 34
        }
      },
      "source": [
        "model = SentenceTransformer('bert-base-nli-mean-tokens')"
      ],
      "execution_count": 9,
      "outputs": [
        {
          "output_type": "stream",
          "text": [
            "100%|██████████| 405M/405M [00:24<00:00, 16.7MB/s]\n"
          ],
          "name": "stderr"
        }
      ]
    },
    {
      "cell_type": "code",
      "metadata": {
        "id": "vmX9Q0cvY9V2"
      },
      "source": [
        "sentence_embeddings = model.encode(sentences)"
      ],
      "execution_count": 10,
      "outputs": []
    },
    {
      "cell_type": "code",
      "metadata": {
        "id": "BeK5FHuHbQFT",
        "outputId": "ba9a81d0-cce9-4c40-ce86-653b4351b6ef",
        "colab": {
          "base_uri": "https://localhost:8080/",
          "height": 212
        }
      },
      "source": [
        "!wget --no-check-certificate \\\n",
        "    https://storage.googleapis.com/laurencemoroney-blog.appspot.com/glove.6B.100d.txt \\\n",
        "    -O /content/glove.6B.100d.txt"
      ],
      "execution_count": 11,
      "outputs": [
        {
          "output_type": "stream",
          "text": [
            "--2020-10-08 15:27:45--  https://storage.googleapis.com/laurencemoroney-blog.appspot.com/glove.6B.100d.txt\n",
            "Resolving storage.googleapis.com (storage.googleapis.com)... 74.125.142.128, 74.125.195.128, 2607:f8b0:400e:c07::80, ...\n",
            "Connecting to storage.googleapis.com (storage.googleapis.com)|74.125.142.128|:443... connected.\n",
            "HTTP request sent, awaiting response... 200 OK\n",
            "Length: 347116733 (331M) [text/plain]\n",
            "Saving to: ‘/content/glove.6B.100d.txt’\n",
            "\n",
            "/content/glove.6B.1 100%[===================>] 331.04M   125MB/s    in 2.7s    \n",
            "\n",
            "2020-10-08 15:27:48 (125 MB/s) - ‘/content/glove.6B.100d.txt’ saved [347116733/347116733]\n",
            "\n"
          ],
          "name": "stdout"
        }
      ]
    },
    {
      "cell_type": "code",
      "metadata": {
        "id": "QOHi_iHbkYDF"
      },
      "source": [
        "y= \"yes\"\n",
        "n= \"no\"\n",
        "   \n",
        "with open('/content/glove.6B.100d.txt') as f:\n",
        "   \n",
        "     for line in f:\n",
        "      values = line.split();\n",
        "      word = values[0];\n",
        "      if y==word:\n",
        "        coefs = np.asarray(values[1:], dtype='float32');\n",
        "        yes_embedding = coefs;\n",
        "      if n==word:\n",
        "        coefs = np.asarray(values[1:], dtype='float32');\n",
        "        no_embedding = coefs;"
      ],
      "execution_count": 12,
      "outputs": []
    },
    {
      "cell_type": "code",
      "metadata": {
        "id": "EiypTDPHl-p7",
        "outputId": "18898e6c-6660-491b-9496-485a68a9283a",
        "colab": {
          "base_uri": "https://localhost:8080/",
          "height": 70
        }
      },
      "source": [
        "print(sentence_embeddings.shape)\n",
        "print(yes_embedding.shape)\n",
        "print(no_embedding.shape)"
      ],
      "execution_count": 13,
      "outputs": [
        {
          "output_type": "stream",
          "text": [
            "(3040, 768)\n",
            "(100,)\n",
            "(100,)\n"
          ],
          "name": "stdout"
        }
      ]
    },
    {
      "cell_type": "code",
      "metadata": {
        "id": "TImB1hH3yWtY",
        "outputId": "1af470fd-7827-4619-90ed-66b94305db38",
        "colab": {
          "base_uri": "https://localhost:8080/",
          "height": 34
        }
      },
      "source": [
        "yn_vecs=[]\n",
        "\n",
        "for i in labels:\n",
        "  if i==1:\n",
        "    yn_vecs.append(yes_embedding)\n",
        "  else:\n",
        "    yn_vecs.append(no_embedding)\n",
        "\n",
        "add_embedding=np.array(yn_vecs)\n",
        "print(add_embedding.shape)"
      ],
      "execution_count": 14,
      "outputs": [
        {
          "output_type": "stream",
          "text": [
            "(3040, 100)\n"
          ],
          "name": "stdout"
        }
      ]
    },
    {
      "cell_type": "code",
      "metadata": {
        "id": "mURHErYaqZ6u",
        "outputId": "b1a50766-9405-480b-a88a-d750b373150b",
        "colab": {
          "base_uri": "https://localhost:8080/",
          "height": 158
        }
      },
      "source": [
        "from tensorflow.keras.preprocessing.sequence import pad_sequences\n",
        "y= pad_sequences(add_embedding, padding='post', truncating='post', maxlen=768)\n",
        "print(y)\n",
        "print(y.shape)"
      ],
      "execution_count": 15,
      "outputs": [
        {
          "output_type": "stream",
          "text": [
            "[[0 0 0 ... 0 0 0]\n",
            " [0 0 0 ... 0 0 0]\n",
            " [0 0 0 ... 0 0 0]\n",
            " ...\n",
            " [0 0 0 ... 0 0 0]\n",
            " [0 0 0 ... 0 0 0]\n",
            " [0 0 0 ... 0 0 0]]\n",
            "(3040, 768)\n"
          ],
          "name": "stdout"
        }
      ]
    },
    {
      "cell_type": "code",
      "metadata": {
        "id": "EDtD49gVcolX",
        "outputId": "9fc287ca-1300-4515-b105-275ee8740f9c",
        "colab": {
          "base_uri": "https://localhost:8080/",
          "height": 52
        }
      },
      "source": [
        "print(y.shape)\n",
        "print(sentence_embeddings.shape)"
      ],
      "execution_count": 16,
      "outputs": [
        {
          "output_type": "stream",
          "text": [
            "(3040, 768)\n",
            "(3040, 768)\n"
          ],
          "name": "stdout"
        }
      ]
    },
    {
      "cell_type": "code",
      "metadata": {
        "id": "trU4_vXkq9cd"
      },
      "source": [
        "model_1= keras.Sequential([keras.layers.Dense(units= 768, input_dim= 768,trainable=False)])"
      ],
      "execution_count": 17,
      "outputs": []
    },
    {
      "cell_type": "code",
      "metadata": {
        "id": "XiDiQ-F2q9f5"
      },
      "source": [
        "model_1.compile(optimizer='sgd', loss='mean_squared_error')"
      ],
      "execution_count": 18,
      "outputs": []
    },
    {
      "cell_type": "code",
      "metadata": {
        "id": "GctzvjWCq8_-",
        "outputId": "aee3697c-1742-4390-b848-593f23e025cc",
        "colab": {
          "base_uri": "https://localhost:8080/",
          "height": 1000
        }
      },
      "source": [
        "model_1.fit(sentence_embeddings, y, epochs=100)"
      ],
      "execution_count": 19,
      "outputs": [
        {
          "output_type": "stream",
          "text": [
            "Epoch 1/100\n",
            "95/95 [==============================] - 0s 1ms/step - loss: 0.3475\n",
            "Epoch 2/100\n",
            "95/95 [==============================] - 0s 1ms/step - loss: 0.3475\n",
            "Epoch 3/100\n",
            "95/95 [==============================] - 0s 1ms/step - loss: 0.3475\n",
            "Epoch 4/100\n",
            "95/95 [==============================] - 0s 1ms/step - loss: 0.3475\n",
            "Epoch 5/100\n",
            "95/95 [==============================] - 0s 1ms/step - loss: 0.3475\n",
            "Epoch 6/100\n",
            "95/95 [==============================] - 0s 1ms/step - loss: 0.3475\n",
            "Epoch 7/100\n",
            "95/95 [==============================] - 0s 1ms/step - loss: 0.3475\n",
            "Epoch 8/100\n",
            "95/95 [==============================] - 0s 1ms/step - loss: 0.3475\n",
            "Epoch 9/100\n",
            "95/95 [==============================] - 0s 1ms/step - loss: 0.3475\n",
            "Epoch 10/100\n",
            "95/95 [==============================] - 0s 1ms/step - loss: 0.3475\n",
            "Epoch 11/100\n",
            "95/95 [==============================] - 0s 1ms/step - loss: 0.3475\n",
            "Epoch 12/100\n",
            "95/95 [==============================] - 0s 1ms/step - loss: 0.3475\n",
            "Epoch 13/100\n",
            "95/95 [==============================] - 0s 1ms/step - loss: 0.3475\n",
            "Epoch 14/100\n",
            "95/95 [==============================] - 0s 1ms/step - loss: 0.3475\n",
            "Epoch 15/100\n",
            "95/95 [==============================] - 0s 1ms/step - loss: 0.3475\n",
            "Epoch 16/100\n",
            "95/95 [==============================] - 0s 1ms/step - loss: 0.3475\n",
            "Epoch 17/100\n",
            "95/95 [==============================] - 0s 1ms/step - loss: 0.3475\n",
            "Epoch 18/100\n",
            "95/95 [==============================] - 0s 1ms/step - loss: 0.3475\n",
            "Epoch 19/100\n",
            "95/95 [==============================] - 0s 1ms/step - loss: 0.3475\n",
            "Epoch 20/100\n",
            "95/95 [==============================] - 0s 1ms/step - loss: 0.3475\n",
            "Epoch 21/100\n",
            "95/95 [==============================] - 0s 1ms/step - loss: 0.3475\n",
            "Epoch 22/100\n",
            "95/95 [==============================] - 0s 1ms/step - loss: 0.3475\n",
            "Epoch 23/100\n",
            "95/95 [==============================] - 0s 1ms/step - loss: 0.3475\n",
            "Epoch 24/100\n",
            "95/95 [==============================] - 0s 1ms/step - loss: 0.3475\n",
            "Epoch 25/100\n",
            "95/95 [==============================] - 0s 1ms/step - loss: 0.3475\n",
            "Epoch 26/100\n",
            "95/95 [==============================] - 0s 1ms/step - loss: 0.3475\n",
            "Epoch 27/100\n",
            "95/95 [==============================] - 0s 1ms/step - loss: 0.3475\n",
            "Epoch 28/100\n",
            "95/95 [==============================] - 0s 1ms/step - loss: 0.3475\n",
            "Epoch 29/100\n",
            "95/95 [==============================] - 0s 1ms/step - loss: 0.3475\n",
            "Epoch 30/100\n",
            "95/95 [==============================] - 0s 1ms/step - loss: 0.3475\n",
            "Epoch 31/100\n",
            "95/95 [==============================] - 0s 1ms/step - loss: 0.3475\n",
            "Epoch 32/100\n",
            "95/95 [==============================] - 0s 1ms/step - loss: 0.3475\n",
            "Epoch 33/100\n",
            "95/95 [==============================] - 0s 1ms/step - loss: 0.3475\n",
            "Epoch 34/100\n",
            "95/95 [==============================] - 0s 1ms/step - loss: 0.3475\n",
            "Epoch 35/100\n",
            "95/95 [==============================] - 0s 1ms/step - loss: 0.3475\n",
            "Epoch 36/100\n",
            "95/95 [==============================] - 0s 1ms/step - loss: 0.3475\n",
            "Epoch 37/100\n",
            "95/95 [==============================] - 0s 1ms/step - loss: 0.3475\n",
            "Epoch 38/100\n",
            "95/95 [==============================] - 0s 1ms/step - loss: 0.3475\n",
            "Epoch 39/100\n",
            "95/95 [==============================] - 0s 1ms/step - loss: 0.3475\n",
            "Epoch 40/100\n",
            "95/95 [==============================] - 0s 1ms/step - loss: 0.3475\n",
            "Epoch 41/100\n",
            "95/95 [==============================] - 0s 1ms/step - loss: 0.3475\n",
            "Epoch 42/100\n",
            "95/95 [==============================] - 0s 1ms/step - loss: 0.3475\n",
            "Epoch 43/100\n",
            "95/95 [==============================] - 0s 1ms/step - loss: 0.3475\n",
            "Epoch 44/100\n",
            "95/95 [==============================] - 0s 1ms/step - loss: 0.3475\n",
            "Epoch 45/100\n",
            "95/95 [==============================] - 0s 1ms/step - loss: 0.3475\n",
            "Epoch 46/100\n",
            "95/95 [==============================] - 0s 1ms/step - loss: 0.3475\n",
            "Epoch 47/100\n",
            "95/95 [==============================] - 0s 1ms/step - loss: 0.3475\n",
            "Epoch 48/100\n",
            "95/95 [==============================] - 0s 1ms/step - loss: 0.3475\n",
            "Epoch 49/100\n",
            "95/95 [==============================] - 0s 1ms/step - loss: 0.3475\n",
            "Epoch 50/100\n",
            "95/95 [==============================] - 0s 1ms/step - loss: 0.3475\n",
            "Epoch 51/100\n",
            "95/95 [==============================] - 0s 1ms/step - loss: 0.3475\n",
            "Epoch 52/100\n",
            "95/95 [==============================] - 0s 1ms/step - loss: 0.3475\n",
            "Epoch 53/100\n",
            "95/95 [==============================] - 0s 1ms/step - loss: 0.3475\n",
            "Epoch 54/100\n",
            "95/95 [==============================] - 0s 1ms/step - loss: 0.3475\n",
            "Epoch 55/100\n",
            "95/95 [==============================] - 0s 1ms/step - loss: 0.3475\n",
            "Epoch 56/100\n",
            "95/95 [==============================] - 0s 1ms/step - loss: 0.3475\n",
            "Epoch 57/100\n",
            "95/95 [==============================] - 0s 1ms/step - loss: 0.3475\n",
            "Epoch 58/100\n",
            "95/95 [==============================] - 0s 1ms/step - loss: 0.3475\n",
            "Epoch 59/100\n",
            "95/95 [==============================] - 0s 1ms/step - loss: 0.3475\n",
            "Epoch 60/100\n",
            "95/95 [==============================] - 0s 1ms/step - loss: 0.3475\n",
            "Epoch 61/100\n",
            "95/95 [==============================] - 0s 1ms/step - loss: 0.3475\n",
            "Epoch 62/100\n",
            "95/95 [==============================] - 0s 1ms/step - loss: 0.3475\n",
            "Epoch 63/100\n",
            "95/95 [==============================] - 0s 1ms/step - loss: 0.3475\n",
            "Epoch 64/100\n",
            "95/95 [==============================] - 0s 1ms/step - loss: 0.3475\n",
            "Epoch 65/100\n",
            "95/95 [==============================] - 0s 1ms/step - loss: 0.3475\n",
            "Epoch 66/100\n",
            "95/95 [==============================] - 0s 1ms/step - loss: 0.3475\n",
            "Epoch 67/100\n",
            "95/95 [==============================] - 0s 1ms/step - loss: 0.3475\n",
            "Epoch 68/100\n",
            "95/95 [==============================] - 0s 1ms/step - loss: 0.3475\n",
            "Epoch 69/100\n",
            "95/95 [==============================] - 0s 1ms/step - loss: 0.3475\n",
            "Epoch 70/100\n",
            "95/95 [==============================] - 0s 1ms/step - loss: 0.3475\n",
            "Epoch 71/100\n",
            "95/95 [==============================] - 0s 1ms/step - loss: 0.3475\n",
            "Epoch 72/100\n",
            "95/95 [==============================] - 0s 1ms/step - loss: 0.3475\n",
            "Epoch 73/100\n",
            "95/95 [==============================] - 0s 1ms/step - loss: 0.3475\n",
            "Epoch 74/100\n",
            "95/95 [==============================] - 0s 1ms/step - loss: 0.3475\n",
            "Epoch 75/100\n",
            "95/95 [==============================] - 0s 1ms/step - loss: 0.3475\n",
            "Epoch 76/100\n",
            "95/95 [==============================] - 0s 1ms/step - loss: 0.3475\n",
            "Epoch 77/100\n",
            "95/95 [==============================] - 0s 1ms/step - loss: 0.3475\n",
            "Epoch 78/100\n",
            "95/95 [==============================] - 0s 1ms/step - loss: 0.3475\n",
            "Epoch 79/100\n",
            "95/95 [==============================] - 0s 1ms/step - loss: 0.3475\n",
            "Epoch 80/100\n",
            "95/95 [==============================] - 0s 1ms/step - loss: 0.3475\n",
            "Epoch 81/100\n",
            "95/95 [==============================] - 0s 1ms/step - loss: 0.3475\n",
            "Epoch 82/100\n",
            "95/95 [==============================] - 0s 1ms/step - loss: 0.3475\n",
            "Epoch 83/100\n",
            "95/95 [==============================] - 0s 1ms/step - loss: 0.3475\n",
            "Epoch 84/100\n",
            "95/95 [==============================] - 0s 1ms/step - loss: 0.3475\n",
            "Epoch 85/100\n",
            "95/95 [==============================] - 0s 1ms/step - loss: 0.3475\n",
            "Epoch 86/100\n",
            "95/95 [==============================] - 0s 1ms/step - loss: 0.3475\n",
            "Epoch 87/100\n",
            "95/95 [==============================] - 0s 1ms/step - loss: 0.3475\n",
            "Epoch 88/100\n",
            "95/95 [==============================] - 0s 1ms/step - loss: 0.3475\n",
            "Epoch 89/100\n",
            "95/95 [==============================] - 0s 1ms/step - loss: 0.3475\n",
            "Epoch 90/100\n",
            "95/95 [==============================] - 0s 1ms/step - loss: 0.3475\n",
            "Epoch 91/100\n",
            "95/95 [==============================] - 0s 1ms/step - loss: 0.3475\n",
            "Epoch 92/100\n",
            "95/95 [==============================] - 0s 1ms/step - loss: 0.3475\n",
            "Epoch 93/100\n",
            "95/95 [==============================] - 0s 1ms/step - loss: 0.3475\n",
            "Epoch 94/100\n",
            "95/95 [==============================] - 0s 1ms/step - loss: 0.3475\n",
            "Epoch 95/100\n",
            "95/95 [==============================] - 0s 1ms/step - loss: 0.3475\n",
            "Epoch 96/100\n",
            "95/95 [==============================] - 0s 1ms/step - loss: 0.3475\n",
            "Epoch 97/100\n",
            "95/95 [==============================] - 0s 1ms/step - loss: 0.3475\n",
            "Epoch 98/100\n",
            "95/95 [==============================] - 0s 1ms/step - loss: 0.3475\n",
            "Epoch 99/100\n",
            "95/95 [==============================] - 0s 1ms/step - loss: 0.3475\n",
            "Epoch 100/100\n",
            "95/95 [==============================] - 0s 1ms/step - loss: 0.3475\n"
          ],
          "name": "stdout"
        },
        {
          "output_type": "execute_result",
          "data": {
            "text/plain": [
              "<tensorflow.python.keras.callbacks.History at 0x7f04653366d8>"
            ]
          },
          "metadata": {
            "tags": []
          },
          "execution_count": 19
        }
      ]
    },
    {
      "cell_type": "code",
      "metadata": {
        "id": "kJzANE8GtL9b"
      },
      "source": [
        "query = \"Asbestos pipe removed on site.\" #Enter Query Hwew"
      ],
      "execution_count": 20,
      "outputs": []
    },
    {
      "cell_type": "code",
      "metadata": {
        "id": "QBvltNGmtLio"
      },
      "source": [
        "queries = [query]\n",
        "query_embeddings = model.encode(queries)\n",
        "\n",
        "\n",
        "number_top_matches = 3 "
      ],
      "execution_count": 21,
      "outputs": []
    },
    {
      "cell_type": "code",
      "metadata": {
        "id": "aVNAyRdrtLWd",
        "outputId": "266c8189-4794-403d-c1e9-2cea9fa6f1ab",
        "colab": {
          "base_uri": "https://localhost:8080/",
          "height": 354
        }
      },
      "source": [
        "import scipy\n",
        "number_top_matches = 10 #@param {type: \"number\"}\n",
        "print(\"Semantic Search Results\")\n",
        "for query, query_embedding in zip(queries, query_embeddings):\n",
        "    distances = scipy.spatial.distance.cdist([query_embedding], sentence_embeddings, \"cosine\")[0]\n",
        "\n",
        "    results = zip(range(len(distances)), distances)\n",
        "    results = sorted(results, key=lambda x: x[1])\n",
        "\n",
        "    print(\"\\n\\n======================\\n\\n\")\n",
        "    print(\"Query:\", query)\n",
        "    print(\"\\nTop 5 most similar sentences in corpus:\")\n",
        "\n",
        "    for idx, distance in results[0:number_top_matches]:\n",
        "        print(sentences[idx].strip(), \"(Cosine Score: %.4f)\" % (1-distance))"
      ],
      "execution_count": 22,
      "outputs": [
        {
          "output_type": "stream",
          "text": [
            "Semantic Search Results\n",
            "\n",
            "\n",
            "======================\n",
            "\n",
            "\n",
            "Query: Asbestos pipe removed on site.\n",
            "\n",
            "Top 5 most similar sentences in corpus:\n",
            "remove asbestos pipe s3 (Cosine Score: 0.8426)\n",
            "works started removing redundant asbestos water main abutment (Cosine Score: 0.8204)\n",
            "material treated asbestos robson started removal material accordance standards (Cosine Score: 0.8165)\n",
            "earthen ware pipe discovered scott st opposite newcastle station demolition works hoarding area (Cosine Score: 0.8024)\n",
            "material thought asbestos uncovered demolition valley kitchens building (Cosine Score: 0.8022)\n",
            "prior partial demolition newcastle station nlr construction contamination testing platform undertaken (Cosine Score: 0.7733)\n",
            "asbestos near redundant cable (Cosine Score: 0.7708)\n",
            "removing section concrete existing footpath gas leak occurred (Cosine Score: 0.7594)\n",
            "removal asbestos water main overhead powerlines delaying excavation s3 abutment (Cosine Score: 0.7573)\n",
            "extent contamination not known material test results confirm material indeed asbestos slab completely removed (Cosine Score: 0.7563)\n"
          ],
          "name": "stdout"
        }
      ]
    },
    {
      "cell_type": "code",
      "metadata": {
        "id": "9QFlkIDHtK4s"
      },
      "source": [
        "actual_sentences=[]\n",
        "actual_labels=[]\n",
        "\n",
        "with open(fpath + '/Delay Actual Data.csv') as csvfile:\n",
        "    reader = csv.reader(csvfile, delimiter=',')\n",
        "    next(reader)\n",
        "    for row in reader:\n",
        "      label= row[1]\n",
        "      data = row[0]\n",
        "      actual_sentences.append(data)\n",
        "      actual_labels.append(label)"
      ],
      "execution_count": 23,
      "outputs": []
    },
    {
      "cell_type": "code",
      "metadata": {
        "id": "amUlEPyTtKgN",
        "outputId": "a513e743-388b-4dd6-ce70-49c5914c7d45",
        "colab": {
          "base_uri": "https://localhost:8080/",
          "height": 34
        }
      },
      "source": [
        "print(len(actual_sentences))"
      ],
      "execution_count": 24,
      "outputs": [
        {
          "output_type": "stream",
          "text": [
            "225\n"
          ],
          "name": "stdout"
        }
      ]
    },
    {
      "cell_type": "code",
      "metadata": {
        "id": "6DoF7ZOOwiKA"
      },
      "source": [
        "vectored_sentences = model.encode(actual_sentences)"
      ],
      "execution_count": 25,
      "outputs": []
    },
    {
      "cell_type": "code",
      "metadata": {
        "id": "oxO1XTB9wiP5"
      },
      "source": [
        "modelprediction= (model_1.predict([vectored_sentences]))"
      ],
      "execution_count": 26,
      "outputs": []
    },
    {
      "cell_type": "code",
      "metadata": {
        "id": "5JaizCGTwiNf",
        "outputId": "ff142b46-6fde-4490-9840-f446ca131ee3",
        "colab": {
          "base_uri": "https://localhost:8080/",
          "height": 34
        }
      },
      "source": [
        "print(modelprediction.shape)"
      ],
      "execution_count": 27,
      "outputs": [
        {
          "output_type": "stream",
          "text": [
            "(225, 768)\n"
          ],
          "name": "stdout"
        }
      ]
    },
    {
      "cell_type": "code",
      "metadata": {
        "id": "WJOP6pLkyAZi"
      },
      "source": [
        "weights=modelprediction"
      ],
      "execution_count": 28,
      "outputs": []
    },
    {
      "cell_type": "code",
      "metadata": {
        "id": "b7TXt-uqxlyz"
      },
      "source": [
        "import io\n",
        "\n",
        "out_v = io.open('vecs.tsv', 'w', encoding='utf-8')\n",
        "out_m = io.open('meta.tsv', 'w', encoding='utf-8')\n",
        "for count, sent in enumerate(actual_sentences):\n",
        "  embeddings = weights[count]\n",
        "  a_l=actual_labels[count]\n",
        "  tem=\"label:\"+str(a_l)+\" \"+sent\n",
        "  out_m.write(tem + \"\\n\")\n",
        "  out_v.write('\\t'.join(str(x) for x in embeddings) + \"\\n\")\n",
        "out_v.close()\n",
        "out_m.close()"
      ],
      "execution_count": 30,
      "outputs": []
    },
    {
      "cell_type": "code",
      "metadata": {
        "id": "GQBk5z3cxl5b",
        "outputId": "16025baa-80bb-42bf-d149-96fbb770f497",
        "colab": {
          "base_uri": "https://localhost:8080/",
          "height": 16
        }
      },
      "source": [
        "try:\n",
        "  from google.colab import files\n",
        "except ImportError:\n",
        "  pass\n",
        "else:\n",
        "  files.download('vecs.tsv')\n",
        "  files.download('meta.tsv')"
      ],
      "execution_count": 31,
      "outputs": [
        {
          "output_type": "display_data",
          "data": {
            "application/javascript": [
              "\n",
              "    async function download(id, filename, size) {\n",
              "      if (!google.colab.kernel.accessAllowed) {\n",
              "        return;\n",
              "      }\n",
              "      const div = document.createElement('div');\n",
              "      const label = document.createElement('label');\n",
              "      label.textContent = `Downloading \"${filename}\": `;\n",
              "      div.appendChild(label);\n",
              "      const progress = document.createElement('progress');\n",
              "      progress.max = size;\n",
              "      div.appendChild(progress);\n",
              "      document.body.appendChild(div);\n",
              "\n",
              "      const buffers = [];\n",
              "      let downloaded = 0;\n",
              "\n",
              "      const channel = await google.colab.kernel.comms.open(id);\n",
              "      // Send a message to notify the kernel that we're ready.\n",
              "      channel.send({})\n",
              "\n",
              "      for await (const message of channel.messages) {\n",
              "        // Send a message to notify the kernel that we're ready.\n",
              "        channel.send({})\n",
              "        if (message.buffers) {\n",
              "          for (const buffer of message.buffers) {\n",
              "            buffers.push(buffer);\n",
              "            downloaded += buffer.byteLength;\n",
              "            progress.value = downloaded;\n",
              "          }\n",
              "        }\n",
              "      }\n",
              "      const blob = new Blob(buffers, {type: 'application/binary'});\n",
              "      const a = document.createElement('a');\n",
              "      a.href = window.URL.createObjectURL(blob);\n",
              "      a.download = filename;\n",
              "      div.appendChild(a);\n",
              "      a.click();\n",
              "      div.remove();\n",
              "    }\n",
              "  "
            ],
            "text/plain": [
              "<IPython.core.display.Javascript object>"
            ]
          },
          "metadata": {
            "tags": []
          }
        },
        {
          "output_type": "display_data",
          "data": {
            "application/javascript": [
              "download(\"download_d90b43d5-9957-42a0-a07a-937506ef8cba\", \"vecs.tsv\", 1930870)"
            ],
            "text/plain": [
              "<IPython.core.display.Javascript object>"
            ]
          },
          "metadata": {
            "tags": []
          }
        },
        {
          "output_type": "display_data",
          "data": {
            "application/javascript": [
              "\n",
              "    async function download(id, filename, size) {\n",
              "      if (!google.colab.kernel.accessAllowed) {\n",
              "        return;\n",
              "      }\n",
              "      const div = document.createElement('div');\n",
              "      const label = document.createElement('label');\n",
              "      label.textContent = `Downloading \"${filename}\": `;\n",
              "      div.appendChild(label);\n",
              "      const progress = document.createElement('progress');\n",
              "      progress.max = size;\n",
              "      div.appendChild(progress);\n",
              "      document.body.appendChild(div);\n",
              "\n",
              "      const buffers = [];\n",
              "      let downloaded = 0;\n",
              "\n",
              "      const channel = await google.colab.kernel.comms.open(id);\n",
              "      // Send a message to notify the kernel that we're ready.\n",
              "      channel.send({})\n",
              "\n",
              "      for await (const message of channel.messages) {\n",
              "        // Send a message to notify the kernel that we're ready.\n",
              "        channel.send({})\n",
              "        if (message.buffers) {\n",
              "          for (const buffer of message.buffers) {\n",
              "            buffers.push(buffer);\n",
              "            downloaded += buffer.byteLength;\n",
              "            progress.value = downloaded;\n",
              "          }\n",
              "        }\n",
              "      }\n",
              "      const blob = new Blob(buffers, {type: 'application/binary'});\n",
              "      const a = document.createElement('a');\n",
              "      a.href = window.URL.createObjectURL(blob);\n",
              "      a.download = filename;\n",
              "      div.appendChild(a);\n",
              "      a.click();\n",
              "      div.remove();\n",
              "    }\n",
              "  "
            ],
            "text/plain": [
              "<IPython.core.display.Javascript object>"
            ]
          },
          "metadata": {
            "tags": []
          }
        },
        {
          "output_type": "display_data",
          "data": {
            "application/javascript": [
              "download(\"download_5a3a9092-33c8-47c2-8131-1d2c973edbd6\", \"meta.tsv\", 7083)"
            ],
            "text/plain": [
              "<IPython.core.display.Javascript object>"
            ]
          },
          "metadata": {
            "tags": []
          }
        }
      ]
    }
  ]
}